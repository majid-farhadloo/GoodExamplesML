{
 "cells": [
  {
   "cell_type": "code",
   "execution_count": 9,
   "metadata": {},
   "outputs": [
    {
     "name": "stdout",
     "output_type": "stream",
     "text": [
      "High five! You successfully sent some data to your account on plotly. View your plot in your browser at https://plot.ly/~majidplotly/0 or inside your plot.ly account where it is named 'error-bar-bar'\n"
     ]
    },
    {
     "data": {
      "text/html": [
       "<iframe id=\"igraph\" scrolling=\"no\" style=\"border:none;\" seamless=\"seamless\" src=\"https://plot.ly/~majidplotly/0.embed\" height=\"525px\" width=\"100%\"></iframe>"
      ],
      "text/plain": [
       "<chart_studio.tools.PlotlyDisplay object>"
      ]
     },
     "execution_count": 9,
     "metadata": {},
     "output_type": "execute_result"
    }
   ],
   "source": [
    "import plotly.plotly as py\n",
    "import plotly.graph_objs as go\n",
    "\n",
    "trace1 = go.Bar(\n",
    "    x=['Alexnet','Densenet201','Googlenet', 'Inceptionresnetv2',\n",
    "       'Ineptionv3','Resnet18','Resnet50', 'Resnet101', 'Squeezenet',\n",
    "       'Vgg16', 'Vgg19','definedNetwork'],\n",
    "    y=[0.9522, 0.9814, 0.9431, 0.9837, 0.9820, 0.9765, 0.9960, 0.9815, 0.9476, 0.9734, 0.9714, 0.8928],\n",
    "    name='A',\n",
    "    error_y=dict(\n",
    "        type='data',\n",
    "        array=[0.0091, 0.0042, 0.0116, 0.0055, 0.0048, 0.0069, 0.0016, 0.0050,0.0110, 0.0073, 0.0074, 0.0190],\n",
    "        visible=True\n",
    "    )\n",
    ")\n",
    "trace2 = go.Bar(\n",
    "     x=['Alexnet','Densenet201','Googlenet', 'Inceptionresnetv2',\n",
    "       'Ineptionv3','Resnet18','Resnet50', 'Resnet101', 'Squeezenet',\n",
    "       'Vgg16', 'Vgg19','definedNetwork'],\n",
    "    y=[0.9914, 0.9944, 0.9889, 0.9923, 0.9936, 0.9926, 0.9945, 0.9948, 0.9866, 0.9918, 0.9906, 0.9683],\n",
    "    name='B',\n",
    "    error_y=dict(\n",
    "        type='data',\n",
    "        array=[0.0021, 0.0029, 0.0032, 0.0027, 0.0025, 0.0029, 0.0030,0.0026, 0.0055, 0.0028, 0.0035, 0.0097],\n",
    "        visible=True\n",
    "    )\n",
    ")\n",
    "data = [trace1, trace2]\n",
    "layout = go.Layout(\n",
    "    barmode='group'\n",
    ")\n",
    "fig = go.Figure(data=data, layout=layout)\n",
    "py.iplot(fig, filename='error-bar-bar')"
   ]
  },
  {
   "cell_type": "code",
   "execution_count": 10,
   "metadata": {},
   "outputs": [
    {
     "name": "stdout",
     "output_type": "stream",
     "text": [
      "High five! You successfully sent some data to your account on plotly. View your plot in your browser at https://plot.ly/~majidplotly/0 or inside your plot.ly account where it is named 'error-bar-bar'\n"
     ]
    },
    {
     "data": {
      "text/html": [
       "<iframe id=\"igraph\" scrolling=\"no\" style=\"border:none;\" seamless=\"seamless\" src=\"https://plot.ly/~majidplotly/0.embed\" height=\"525px\" width=\"100%\"></iframe>"
      ],
      "text/plain": [
       "<chart_studio.tools.PlotlyDisplay object>"
      ]
     },
     "execution_count": 10,
     "metadata": {},
     "output_type": "execute_result"
    }
   ],
   "source": [
    "import plotly.plotly as py\n",
    "import plotly.graph_objs as go\n",
    "\n",
    "trace1 = go.Bar(\n",
    "    x=['Alexnet','Densenet201','Googlenet', 'Inceptionresnetv2',\n",
    "       'Ineptionv3','Resnet18','Resnet50', 'Resnet101', 'Squeezenet',\n",
    "       'Vgg16', 'Vgg19','definedNetwork'],\n",
    "    y=[0.9786, 0.9973, 0.9823, 0.9965, 0.9965, 0.9952, 0.9806, 0.9968, 0.9852, 0.9929, 0.9932, 0.9521],\n",
    "    name='A',\n",
    "    error_y=dict(\n",
    "        type='data',\n",
    "        array=[0.0034, 0.0011, 0.0051, 0.0015, 0.0014, 0.0011, 0.0061, 0.0016, 0.0037, 0.0023, 0.0020, 0.0215],\n",
    "        visible=True\n",
    "    )\n",
    ")\n",
    "trace2 = go.Bar(\n",
    "     x=['Alexnet','Densenet201','Googlenet', 'Inceptionresnetv2',\n",
    "       'Ineptionv3','Resnet18','Resnet50', 'Resnet101', 'Squeezenet',\n",
    "       'Vgg16', 'Vgg19','definedNetwork'],\n",
    "    y=[0.9950, 0.9983, 0.9982, 0.9977, 0.9980, 0.9981, 0.9983, 0.9979, 0.9980, 0.9968, 0.9977, 0.9974],\n",
    "    name='B',\n",
    "    error_y=dict(\n",
    "        type='data',\n",
    "        array=[0.0055, 0.0025, 0.0015, 0.0026, 0.0023, 0.0023, 0.0024, 0.0029, 0.0023, 0.0046, 0.0018, 0.0024],\n",
    "        visible=True\n",
    "    )\n",
    ")\n",
    "data = [trace1, trace2]\n",
    "layout = go.Layout(\n",
    "    barmode='group'\n",
    ")\n",
    "fig = go.Figure(data=data, layout=layout)\n",
    "py.iplot(fig, filename='error-bar-bar')"
   ]
  }
 ],
 "metadata": {
  "kernelspec": {
   "display_name": "Python 3",
   "language": "python",
   "name": "python3"
  },
  "language_info": {
   "codemirror_mode": {
    "name": "ipython",
    "version": 3
   },
   "file_extension": ".py",
   "mimetype": "text/x-python",
   "name": "python",
   "nbconvert_exporter": "python",
   "pygments_lexer": "ipython3",
   "version": "3.7.3"
  }
 },
 "nbformat": 4,
 "nbformat_minor": 2
}
